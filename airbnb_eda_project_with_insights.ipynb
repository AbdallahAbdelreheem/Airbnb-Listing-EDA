{
 "cells": [
  {
   "cell_type": "markdown",
   "id": "74e790ae",
   "metadata": {},
   "source": [
    "# Airbnb EDA Project - Albany, New York"
   ]
  },
  {
   "cell_type": "markdown",
   "id": "29b9b824",
   "metadata": {},
   "source": [
    "\n",
    "## Project Description:\n",
    "This project analyzes Airbnb listings in Albany, New York using Exploratory Data Analysis (EDA).\n",
    "The goal is to uncover trends in price, availability, location, and property type to provide valuable insights for decision-making.\n"
   ]
  },
  {
   "cell_type": "code",
   "execution_count": null,
   "id": "a74279eb",
   "metadata": {},
   "outputs": [],
   "source": [
    "\n",
    "# Import necessary libraries\n",
    "import pandas as pd\n",
    "import seaborn as sns\n",
    "import matplotlib.pyplot as plt\n",
    "\n",
    "# Load the dataset\n",
    "df = pd.read_csv('listings.csv')\n",
    "\n",
    "# Display the first few rows of the dataset\n",
    "df.head()\n"
   ]
  },
  {
   "cell_type": "markdown",
   "id": "9b70bbeb",
   "metadata": {},
   "source": [
    "## Data Cleaning"
   ]
  },
  {
   "cell_type": "code",
   "execution_count": null,
   "id": "8c1726c5",
   "metadata": {},
   "outputs": [],
   "source": [
    "\n",
    "# Check for missing values\n",
    "df.isnull().sum()\n",
    "\n",
    "# Handle missing values by filling or dropping\n",
    "df.fillna({'price': df['price'].mean(), 'availability_365': 0}, inplace=True)  # Example filling missing values\n",
    "\n",
    "# Remove duplicates\n",
    "df.drop_duplicates(inplace=True)\n",
    "\n",
    "# Remove any rows where 'price' is an unrealistic value (outliers, if any)\n",
    "df = df[df['price'] > 0]  # Filtering out rows where price is less than 0\n"
   ]
  },
  {
   "cell_type": "markdown",
   "id": "235b2016",
   "metadata": {},
   "source": [
    "## Exploratory Data Analysis (EDA)"
   ]
  },
  {
   "cell_type": "markdown",
   "id": "4bf12140",
   "metadata": {},
   "source": [
    "### 1. Price Distribution by Neighbourhood"
   ]
  },
  {
   "cell_type": "markdown",
   "id": "c69837b1",
   "metadata": {},
   "source": [
    "\n",
    "**Question:** How does the price vary across different neighbourhoods in Albany?\n",
    "**Insight:** We are interested in observing how the prices vary across different neighbourhoods. Higher prices in certain areas could indicate better amenities or location advantages.\n"
   ]
  },
  {
   "cell_type": "code",
   "execution_count": null,
   "id": "c9c11859",
   "metadata": {},
   "outputs": [],
   "source": [
    "\n",
    "# Price distribution by neighbourhood\n",
    "plt.figure(figsize=(10, 6))\n",
    "sns.boxplot(x='neighbourhood', y='price', data=df)\n",
    "plt.xticks(rotation=90)\n",
    "plt.title('Price Distribution by Neighbourhood')\n",
    "plt.show()\n"
   ]
  },
  {
   "cell_type": "markdown",
   "id": "41e2fe62",
   "metadata": {},
   "source": [
    "### 2. Price Distribution by Property Type"
   ]
  },
  {
   "cell_type": "markdown",
   "id": "14a78a9b",
   "metadata": {},
   "source": [
    "\n",
    "**Question:** What is the price distribution for different property types? Does property type significantly affect the price?\n",
    "**Insight:** This graph will allow us to identify how different property types (e.g., apartment, house, etc.) vary in price. It helps us understand the demand for specific property types in Albany.\n"
   ]
  },
  {
   "cell_type": "code",
   "execution_count": null,
   "id": "dc9412bb",
   "metadata": {},
   "outputs": [],
   "source": [
    "\n",
    "# Price distribution by property type\n",
    "plt.figure(figsize=(10, 6))\n",
    "sns.boxplot(x='property_type', y='price', data=df)\n",
    "plt.xticks(rotation=45)\n",
    "plt.title('Price Distribution by Property Type')\n",
    "plt.show()\n"
   ]
  },
  {
   "cell_type": "markdown",
   "id": "ca8bf361",
   "metadata": {},
   "source": [
    "### 3. Correlation Analysis"
   ]
  },
  {
   "cell_type": "markdown",
   "id": "7c0babf0",
   "metadata": {},
   "source": [
    "\n",
    "**Question:** What are the correlations between price, availability, and review scores? Can we infer any relationships?\n",
    "**Insight:** The correlation matrix helps us understand how different variables like price, availability, and review scores are related. A high correlation between price and reviews could imply that higher-rated listings tend to be priced higher.\n"
   ]
  },
  {
   "cell_type": "code",
   "execution_count": null,
   "id": "f998fbf1",
   "metadata": {},
   "outputs": [],
   "source": [
    "\n",
    "# Extended correlation matrix\n",
    "corr_matrix = df[['price', 'availability_365', 'number_of_reviews', 'review_scores_rating']].corr()\n",
    "plt.figure(figsize=(8, 6))\n",
    "sns.heatmap(corr_matrix, annot=True, cmap='coolwarm', fmt='.2f')\n",
    "plt.title('Correlation Matrix (Extended)')\n",
    "plt.show()\n"
   ]
  },
  {
   "cell_type": "markdown",
   "id": "d85335d1",
   "metadata": {},
   "source": [
    "### 4. Price vs Availability"
   ]
  },
  {
   "cell_type": "markdown",
   "id": "b898f10f",
   "metadata": {},
   "source": [
    "\n",
    "**Question:** Is there any correlation between price and availability? Does a higher availability impact the price?\n",
    "**Insight:** A scatter plot between price and availability will give insights into whether availability of listings influences their pricing. If higher availability is linked to lower prices, it could suggest competitive pricing in less popular listings.\n"
   ]
  },
  {
   "cell_type": "code",
   "execution_count": null,
   "id": "b09549bb",
   "metadata": {},
   "outputs": [],
   "source": [
    "\n",
    "# Scatter plot: Price vs Availability_365\n",
    "plt.figure(figsize=(10, 6))\n",
    "sns.scatterplot(x='availability_365', y='price', data=df, alpha=0.6)\n",
    "plt.title('Price vs Availability (365 days)')\n",
    "plt.xlabel('Availability (365 days)')\n",
    "plt.ylabel('Price')\n",
    "plt.show()\n"
   ]
  },
  {
   "cell_type": "markdown",
   "id": "ef66a239",
   "metadata": {},
   "source": [
    "### 5. Combined Price Distribution by Neighbourhood and Property Type"
   ]
  },
  {
   "cell_type": "markdown",
   "id": "aecc5813",
   "metadata": {},
   "source": [
    "\n",
    "**Question:** How does the price distribution vary when we consider both neighbourhood and property type together?\n",
    "**Insight:** This combined boxplot will give us a deeper insight into how neighbourhoods and property types together affect the pricing of listings. This can help identify specific areas with high-demand property types.\n"
   ]
  },
  {
   "cell_type": "code",
   "execution_count": null,
   "id": "797f3e85",
   "metadata": {},
   "outputs": [],
   "source": [
    "\n",
    "# Combined Price Distribution by Neighbourhood and Property Type\n",
    "plt.figure(figsize=(14, 8))\n",
    "sns.boxplot(x='neighbourhood', y='price', hue='property_type', data=df)\n",
    "plt.xticks(rotation=90)\n",
    "plt.title('Price Distribution by Neighbourhood and Property Type')\n",
    "plt.show()\n"
   ]
  },
  {
   "cell_type": "markdown",
   "id": "75999712",
   "metadata": {},
   "source": [
    "### 6. Seasonality of Availability"
   ]
  },
  {
   "cell_type": "markdown",
   "id": "6cc1f5d4",
   "metadata": {},
   "source": [
    "\n",
    "**Question:** Does availability show seasonal trends? Is there a month with high or low availability?\n",
    "**Insight:** By plotting the availability of listings over different months, we can see if the availability changes seasonally. Seasonal trends could suggest periods of higher tourist demand and help in pricing strategies.\n"
   ]
  },
  {
   "cell_type": "code",
   "execution_count": null,
   "id": "077d5d39",
   "metadata": {},
   "outputs": [],
   "source": [
    "\n",
    "# First, create a 'month' column to simulate the trend over months\n",
    "df['month'] = pd.to_datetime(df['last_review']).dt.month\n",
    "\n",
    "# Plot availability by month\n",
    "plt.figure(figsize=(10, 6))\n",
    "sns.boxplot(x='month', y='availability_365', data=df)\n",
    "plt.title('Availability by Month')\n",
    "plt.xlabel('Month')\n",
    "plt.ylabel('Availability (365 days)')\n",
    "plt.show()\n"
   ]
  }
 ],
 "metadata": {},
 "nbformat": 4,
 "nbformat_minor": 5
}
